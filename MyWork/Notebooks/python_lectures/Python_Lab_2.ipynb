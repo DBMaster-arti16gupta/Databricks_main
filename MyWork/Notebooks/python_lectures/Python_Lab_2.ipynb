{
 "cells": [
  {
   "cell_type": "markdown",
   "metadata": {
    "application/vnd.databricks.v1+cell": {
     "cellMetadata": {},
     "inputWidgets": {},
     "nuid": "af389b53-584d-4ff2-91db-22554f041ef9",
     "showTitle": false,
     "tableResultSettingsMap": {},
     "title": ""
    }
   },
   "source": [
    "Working with the Control Flow Conditional blocks if...else  \n",
    "# Example 1 : if .. else\n",
    "\n",
    "This case sensitive"
   ]
  },
  {
   "cell_type": "code",
   "execution_count": 0,
   "metadata": {
    "application/vnd.databricks.v1+cell": {
     "cellMetadata": {
      "byteLimit": 2048000,
      "rowLimit": 10000
     },
     "inputWidgets": {},
     "nuid": "48f1a102-2f97-4956-b086-85cae923984d",
     "showTitle": false,
     "tableResultSettingsMap": {},
     "title": ""
    }
   },
   "outputs": [],
   "source": [
    "menu_choice=\"Pizza\"\n",
    "\n",
    "if menu_choice==\"Salad\":\n",
    "  print(\"Salad\")\n",
    "else:\n",
    "  print(\"Pizza\")"
   ]
  },
  {
   "cell_type": "code",
   "execution_count": 0,
   "metadata": {
    "application/vnd.databricks.v1+cell": {
     "cellMetadata": {
      "byteLimit": 2048000,
      "rowLimit": 10000
     },
     "inputWidgets": {},
     "nuid": "3105f565-bd5a-4320-9b4d-5a97342b358a",
     "showTitle": false,
     "tableResultSettingsMap": {},
     "title": ""
    }
   },
   "outputs": [],
   "source": [
    "menu_choice=\"Pizza\"\n",
    "\n",
    "if menu_choice==\"Salad\":\n",
    "  print(\"Salad\")\n",
    "elif menu_choice==\"Desert\":\n",
    "    print(\"Desert\")\n",
    "elif menu_choice==\"Pazzta\":\n",
    "      print(\"Pazzta\")\n",
    "else:\n",
    "  print(\"Pizza\")"
   ]
  }
 ],
 "metadata": {
  "application/vnd.databricks.v1+notebook": {
   "computePreferences": null,
   "dashboards": [],
   "environmentMetadata": {
    "base_environment": "",
    "environment_version": "2"
   },
   "inputWidgetPreferences": null,
   "language": "python",
   "notebookMetadata": {
    "pythonIndentUnit": 4
   },
   "notebookName": "Python_Lab_2",
   "widgets": {}
  },
  "language_info": {
   "name": "python"
  }
 },
 "nbformat": 4,
 "nbformat_minor": 0
}
