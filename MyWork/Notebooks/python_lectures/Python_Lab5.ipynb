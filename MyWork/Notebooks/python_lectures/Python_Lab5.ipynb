{
 "cells": [
  {
   "cell_type": "markdown",
   "metadata": {
    "application/vnd.databricks.v1+cell": {
     "cellMetadata": {},
     "inputWidgets": {},
     "nuid": "57691773-0bd7-47fb-b45f-fbb576666665",
     "showTitle": false,
     "tableResultSettingsMap": {},
     "title": ""
    }
   },
   "source": [
    "### For loops & Exception Handling\n",
    "\n",
    "## Example 1"
   ]
  },
  {
   "cell_type": "code",
   "execution_count": 0,
   "metadata": {
    "application/vnd.databricks.v1+cell": {
     "cellMetadata": {
      "byteLimit": 2048000,
      "rowLimit": 10000
     },
     "inputWidgets": {},
     "nuid": "4bf75582-cd2c-485c-9d1e-dcf1def37755",
     "showTitle": false,
     "tableResultSettingsMap": {},
     "title": ""
    }
   },
   "outputs": [],
   "source": [
    "make_cacke_list=[\"bread\",\"sugar\",\"eggs\",\"milk\",\"vanilla extract\",\"chocolate chips\",\"butter\",\"fresh fruits\"]\n",
    "i=0\n",
    "for item in make_cacke_list:\n",
    "  i= i+1\n",
    "\n",
    "  print(f\"To make cake following items are required :{i}. {item}\")"
   ]
  },
  {
   "cell_type": "markdown",
   "metadata": {
    "application/vnd.databricks.v1+cell": {
     "cellMetadata": {},
     "inputWidgets": {},
     "nuid": "350bfa1c-6d42-4a3c-876e-f8c0e3236fc1",
     "showTitle": false,
     "tableResultSettingsMap": {},
     "title": ""
    }
   },
   "source": [
    "## Example 2"
   ]
  },
  {
   "cell_type": "code",
   "execution_count": 0,
   "metadata": {
    "application/vnd.databricks.v1+cell": {
     "cellMetadata": {
      "byteLimit": 2048000,
      "rowLimit": 10000
     },
     "inputWidgets": {},
     "nuid": "de8fc859-ec9f-4890-9845-e6ba9d658d7c",
     "showTitle": false,
     "tableResultSettingsMap": {},
     "title": ""
    }
   },
   "outputs": [],
   "source": [
    "make_cacke_list=[\"bread\",\"sugar\",\"eggs\",\"milk\",\"vanilla extract\",\"chocolate chips\",\"butter\",\"fresh fruits\"]\n",
    "i=0\n",
    "for item in range(1,10):\n",
    "  i= i+1\n",
    "  if i>5 and i < 8:\n",
    "     print(f\"To make cake following items are required :{i}. {make_cacke_list[item]}\")\n",
    "  else:\n",
    "    print(\"not required\")"
   ]
  },
  {
   "cell_type": "markdown",
   "metadata": {
    "application/vnd.databricks.v1+cell": {
     "cellMetadata": {},
     "inputWidgets": {},
     "nuid": "68bd4eba-13c7-45e9-ba66-eb276a5f664c",
     "showTitle": false,
     "tableResultSettingsMap": {},
     "title": ""
    }
   },
   "source": [
    "## Example Try Catch Exception"
   ]
  },
  {
   "cell_type": "code",
   "execution_count": 0,
   "metadata": {
    "application/vnd.databricks.v1+cell": {
     "cellMetadata": {
      "byteLimit": 2048000,
      "rowLimit": 10000
     },
     "inputWidgets": {},
     "nuid": "7c511c3c-0b08-4bc3-bd4a-00bf0bcc4971",
     "showTitle": false,
     "tableResultSettingsMap": {},
     "title": ""
    }
   },
   "outputs": [],
   "source": [
    "var1=0\n",
    "try:\n",
    "    outvar=1/var1\n",
    "    print (outvar)\n",
    "except:\n",
    "    print(\"error can't divide by zero\")\n"
   ]
  }
 ],
 "metadata": {
  "application/vnd.databricks.v1+notebook": {
   "computePreferences": null,
   "dashboards": [],
   "environmentMetadata": {
    "base_environment": "",
    "environment_version": "2"
   },
   "inputWidgetPreferences": null,
   "language": "python",
   "notebookMetadata": {
    "pythonIndentUnit": 4
   },
   "notebookName": "Python_Lab5",
   "widgets": {}
  },
  "language_info": {
   "name": "python"
  }
 },
 "nbformat": 4,
 "nbformat_minor": 0
}
