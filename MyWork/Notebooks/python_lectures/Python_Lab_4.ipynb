{
 "cells": [
  {
   "cell_type": "code",
   "execution_count": 0,
   "metadata": {
    "application/vnd.databricks.v1+cell": {
     "cellMetadata": {},
     "inputWidgets": {},
     "nuid": "b50934fc-e131-41fd-929c-cf20f512a647",
     "showTitle": false,
     "tableResultSettingsMap": {},
     "title": ""
    }
   },
   "outputs": [],
   "source": [
    "1. Working with Object and methods\n",
    "\n",
    "An object could be a string type, float or int etc."
   ]
  },
  {
   "cell_type": "code",
   "execution_count": 0,
   "metadata": {
    "application/vnd.databricks.v1+cell": {
     "cellMetadata": {
      "byteLimit": 2048000,
      "rowLimit": 10000
     },
     "inputWidgets": {},
     "nuid": "91d664eb-fc34-4588-ad9e-5f301ff70c08",
     "showTitle": false,
     "tableResultSettingsMap": {},
     "title": ""
    }
   },
   "outputs": [],
   "source": [
    "my_object=\"FLOWERS\"\n",
    "print(my_object)\n",
    "print(type(my_object))\n",
    "print(my_object.casefold())"
   ]
  },
  {
   "cell_type": "markdown",
   "metadata": {
    "application/vnd.databricks.v1+cell": {
     "cellMetadata": {},
     "inputWidgets": {},
     "nuid": "62e1a470-109f-4601-98e3-1bbe0c57add7",
     "showTitle": false,
     "tableResultSettingsMap": {},
     "title": ""
    }
   },
   "source": [
    "# Collections List Type and its various operations"
   ]
  },
  {
   "cell_type": "code",
   "execution_count": 0,
   "metadata": {
    "application/vnd.databricks.v1+cell": {
     "cellMetadata": {
      "byteLimit": 2048000,
      "rowLimit": 10000
     },
     "inputWidgets": {},
     "nuid": "96e70ab7-b15a-4cbe-bde0-2ef97bd1bc63",
     "showTitle": false,
     "tableResultSettingsMap": {},
     "title": ""
    }
   },
   "outputs": [],
   "source": [
    "my_list=[\"cycle\",\"car\",\"bike\",\"scooter\"]\n",
    "print(my_list)\n",
    "print(type(my_list))\n",
    "# print fist element value\n",
    "print(my_list[0])\n",
    "\n",
    "# print last element value\n",
    "print(my_list[-1])\n",
    "\n",
    "# append list\n",
    "\n",
    "my_list += [\"truck\"]\n",
    "print(my_list)\n",
    "\n",
    "# change specific value value of truck updated with bus\n",
    "my_list[4]=\"bus\"\n",
    "print(my_list)\n",
    "\n",
    "my_list.append(\"train\")\n",
    "print(my_list)\n",
    "\n"
   ]
  },
  {
   "cell_type": "markdown",
   "metadata": {
    "application/vnd.databricks.v1+cell": {
     "cellMetadata": {},
     "inputWidgets": {},
     "nuid": "81241dae-895a-455a-8283-9a530c938e74",
     "showTitle": false,
     "tableResultSettingsMap": {},
     "title": ""
    }
   },
   "source": [
    "# Dictionay Types and its operations\n",
    "\n",
    "Note it is used to hold the key and value pair separated by colon : \n",
    "\n",
    "In general the table schema is stored in Dictionary type\n",
    "{Column_name1: dataype1, Column_name2: dataype2, Column_name3: dataype3}\n",
    "\n",
    "Keys should be unique"
   ]
  },
  {
   "cell_type": "code",
   "execution_count": 0,
   "metadata": {
    "application/vnd.databricks.v1+cell": {
     "cellMetadata": {
      "byteLimit": 2048000,
      "rowLimit": 10000
     },
     "inputWidgets": {},
     "nuid": "ae80bc47-2f19-4345-ab79-9aeb612629b0",
     "showTitle": false,
     "tableResultSettingsMap": {},
     "title": ""
    }
   },
   "outputs": [],
   "source": [
    "dict_type={\"name\":\"John\",\"age\":36,\"country\":\"Norway\"}\n",
    "print(dict_type)\n",
    "print(type(dict_type))\n",
    "\n",
    "# access the values of the keys\n",
    "print(dict_type[\"name\"])\n",
    "print(dict_type[\"age\"])\n",
    "print(dict_type[\"country\"])\n",
    "\n",
    "# add new key into the dictinary\n",
    "dict_type[\"city\"]=\"Oslo\"\n",
    "print(dict_type)\n",
    "\n",
    "# change the value of the key\n",
    "dict_type[\"city\"]=\"London\"\n",
    "print(dict_type)"
   ]
  }
 ],
 "metadata": {
  "application/vnd.databricks.v1+notebook": {
   "computePreferences": null,
   "dashboards": [],
   "environmentMetadata": {
    "base_environment": "",
    "environment_version": "2"
   },
   "inputWidgetPreferences": null,
   "language": "python",
   "notebookMetadata": {
    "pythonIndentUnit": 4
   },
   "notebookName": "Python_Lab_4",
   "widgets": {}
  },
  "language_info": {
   "name": "python"
  }
 },
 "nbformat": 4,
 "nbformat_minor": 0
}
