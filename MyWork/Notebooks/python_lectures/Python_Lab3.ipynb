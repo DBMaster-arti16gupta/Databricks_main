{
 "cells": [
  {
   "cell_type": "markdown",
   "metadata": {
    "application/vnd.databricks.v1+cell": {
     "cellMetadata": {},
     "inputWidgets": {},
     "nuid": "e453387d-3fc5-4ce2-b60a-be02181f46a1",
     "showTitle": false,
     "tableResultSettingsMap": {},
     "title": ""
    }
   },
   "source": [
    "# Working with functions\n",
    "important thing to note, code in functions should be indented otherwose you wil get compilation errors"
   ]
  },
  {
   "cell_type": "code",
   "execution_count": 0,
   "metadata": {
    "application/vnd.databricks.v1+cell": {
     "cellMetadata": {
      "byteLimit": 2048000,
      "rowLimit": 10000
     },
     "inputWidgets": {},
     "nuid": "8e39cbfe-f6e9-4aa0-a948-6f04b63ebf23",
     "showTitle": false,
     "tableResultSettingsMap": {},
     "title": ""
    }
   },
   "outputs": [],
   "source": [
    "def calculate_capital_gain(purchase_price:float, sale_price:float,cii_value:float) -> float:\n",
    "  if cii_value <= 0:\n",
    "     return print(\"CII value must be greater than zero\")\n",
    "  elif cii_value > 1 and cii_value <=3:\n",
    "     return (sale_price - (purchase_price * cii_value))\n",
    "   \n",
    "var_1=calculate_capital_gain(100000,300000,1.75)\n",
    "print(var_1)\n",
    "\n"
   ]
  }
 ],
 "metadata": {
  "application/vnd.databricks.v1+notebook": {
   "computePreferences": null,
   "dashboards": [],
   "environmentMetadata": {
    "base_environment": "",
    "environment_version": "2"
   },
   "inputWidgetPreferences": null,
   "language": "python",
   "notebookMetadata": {
    "pythonIndentUnit": 4
   },
   "notebookName": "Python_Lab3",
   "widgets": {}
  },
  "language_info": {
   "name": "python"
  }
 },
 "nbformat": 4,
 "nbformat_minor": 0
}
