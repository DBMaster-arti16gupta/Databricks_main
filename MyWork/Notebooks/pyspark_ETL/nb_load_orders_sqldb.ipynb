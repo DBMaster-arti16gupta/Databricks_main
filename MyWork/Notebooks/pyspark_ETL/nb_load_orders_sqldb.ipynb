{
 "cells": [
  {
   "cell_type": "code",
   "execution_count": 0,
   "metadata": {
    "application/vnd.databricks.v1+cell": {
     "cellMetadata": {
      "byteLimit": 2048000,
      "rowLimit": 10000
     },
     "inputWidgets": {},
     "nuid": "e889d890-5fb8-4d46-88af-1202aa00c274",
     "showTitle": false,
     "tableResultSettingsMap": {},
     "title": ""
    }
   },
   "outputs": [
    {
     "output_type": "display_data",
     "data": {
      "text/plain": [
       "Databricks data profile. Run in Databricks to view."
      ]
     },
     "metadata": {
      "application/vnd.databricks.v1.subcommand+json": {
       "baseErrorDetails": null,
       "bindings": {},
       "collapsed": false,
       "command": "%python\nif hasattr(dbutils, \"data\") and hasattr(dbutils.data, \"summarize\"):\n  # setup\n  __data_summary_display_orig = display\n  __data_summary_dfs = []\n  def __data_summary_display_new(df):\n    # add only when result is going to be table type\n    __data_summary_df_modules = [\"pandas.core.frame\", \"databricks.koalas.frame\", \"pyspark.sql.dataframe\", \"pyspark.pandas.frame\", \"pyspark.sql.connect.dataframe\", \"pyspark.sql.classic.dataframe\"]\n    if (type(df).__module__ in __data_summary_df_modules and type(df).__name__ == 'DataFrame') or isinstance(df, list):\n      __data_summary_dfs.append(df)\n  display = __data_summary_display_new\n\n  def __data_summary_user_code_fn():\n    import base64\n    exec(base64.standard_b64decode(\"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\").decode())\n\n  try:\n    # run user code\n    __data_summary_user_code_fn()\n\n    # run on valid tableResultIndex\n    if len(__data_summary_dfs) > 0:\n      # run summarize\n      if type(__data_summary_dfs[0]).__module__ == \"databricks.koalas.frame\":\n        # koalas dataframe\n        dbutils.data.summarize(__data_summary_dfs[0].to_spark())\n      elif type(__data_summary_dfs[0]).__module__ == \"pandas.core.frame\":\n        # pandas dataframe\n        dbutils.data.summarize(spark.createDataFrame(__data_summary_dfs[0]))\n      else:\n        dbutils.data.summarize(__data_summary_dfs[0])\n    else:\n        displayHTML(\"dataframe no longer exists. If you're using dataframe.display(), use display(dataframe) instead.\")\n\n  finally:\n    display = __data_summary_display_orig\n    del __data_summary_display_new\n    del __data_summary_display_orig\n    del __data_summary_dfs\n    del __data_summary_user_code_fn\nelse:\n  print(\"This DBR version does not support data profiles.\")",
       "commandTitle": "Data Profile 1",
       "commandType": "auto",
       "commandVersion": 0,
       "commentThread": [],
       "commentsVisible": false,
       "contentSha256Hex": null,
       "customPlotOptions": {},
       "datasetPreviewNameToCmdIdMap": {},
       "diffDeletes": [],
       "diffInserts": [],
       "displayType": "table",
       "error": null,
       "errorDetails": null,
       "errorSummary": null,
       "errorTraceType": null,
       "finishTime": 1753091271630,
       "globalVars": {},
       "guid": "",
       "height": "auto",
       "hideCommandCode": false,
       "hideCommandResult": false,
       "iPythonMetadata": null,
       "inputWidgets": {},
       "isLockedInExamMode": false,
       "latestUser": "a user",
       "latestUserId": null,
       "listResultMetadata": [
        [
         "mimeBundle",
         null
        ]
       ],
       "metadata": {
        "byteLimit": 2048000,
        "rowLimit": 10000
       },
       "nuid": "757e1c5a-dd86-41c5-af7d-da051287b982",
       "origId": 0,
       "parentHierarchy": [],
       "pivotAggregation": null,
       "pivotColumns": null,
       "position": 2.0,
       "resultDbfsErrorMessage": null,
       "resultDbfsStatus": "INLINED_IN_TREE",
       "results": null,
       "showCommandTitle": false,
       "startTime": 1753091250374,
       "state": "input",
       "streamStates": {},
       "subcommandOptions": null,
       "submitTime": 1753091250306,
       "subtype": "tableResultSubCmd.dataSummary",
       "tableResultIndex": 0,
       "tableResultSettingsMap": {},
       "useConsistentColors": false,
       "version": "CommandV1",
       "width": "auto",
       "workflows": null,
       "xColumns": null,
       "yColumns": null
      }
     },
     "output_type": "display_data"
    }
   ],
   "source": [
    "from pyspark.sql.functions import *\n",
    "from pyspark.sql import SparkSession\n",
    "from pyspark.sql.types import *\n",
    "\n",
    "spark=SparkSession.builder.appName(\"Spark DataFrames\").getOrCreate()\n",
    "\n",
    "#define the schema\n",
    "orderschema=StructType([StructField(\"orderID\", IntegerType(), True), \n",
    "                        StructField(\"customerID\", StringType(), True), \n",
    "                        StructField(\"employeeID\", IntegerType(), True),\n",
    "                        StructField(\"orderDate\", TimestampType(), True),\n",
    "                        StructField(\"requiredDate\", TimestampType(), True),\n",
    "                        StructField(\"shippedDate\", StringType(), True),\n",
    "                        StructField(\"shipVia\", IntegerType(), True),\n",
    "                        StructField(\"freight\", DoubleType(), True),\n",
    "                        StructField(\"shipName\", StringType(), True),\n",
    "                        StructField(\"shipAddress\", StringType(), True),\n",
    "                        StructField(\"shipCity\", StringType(), True),\n",
    "                        StructField(\"shipRegion\", StringType(), True),\n",
    "                        StructField(\"shipPostalCode\", StringType(), True),\n",
    "                        StructField(\"shipCountry\", StringType(), True)\n",
    "                        ])\n",
    "df_order=spark.read.csv(\"/Volumes/dbckwork/aibiwork/datafiles/csv/orders.csv\", header=True, schema=orderschema)\n",
    "#display(df_order.limit(5))\n",
    "\n",
    "#perform the data validations\n",
    "df_order_transform=df_order.select(col(\"orderID\"), \n",
    "                                   col(\"customerID\"), \n",
    "                                   col(\"employeeID\"), \n",
    "                                   col(\"orderDate\").try_cast(\"date\").alias(\"orderDate\"),\n",
    "                                   col(\"requiredDate\").try_cast(\"date\").alias(\"requiredDate\"), \n",
    "                                   col(\"shippedDate\").try_cast(\"date\").alias(\"shippedDate\"), \n",
    "                                   col(\"shipVia\"), \n",
    "                                   col(\"freight\").alias(\"freight\"), \n",
    "                                   col(\"shipName\"), \n",
    "                                   when (col(\"shipCountry\").rlike(\"[0-9]\"), concat(col(\"shipAddress\"),col(\"shipcity\")))\n",
    "                                   .otherwise (col(\"shipAddress\")).alias(\"shipAddress_T\"), \n",
    "                                   when (col(\"shipCountry\").rlike(\"[0-9]\"),col(\"shipRegion\")) \n",
    "                                   .otherwise (col(\"shipCity\")).alias(\"shipCity_t\"), \n",
    "                                   when (col(\"shipCountry\").rlike(\"[0-9]\"),col(\"shipPostalCode\")) \n",
    "                                   .otherwise (col(\"shipRegion\")).alias(\"shipRegion_t\"), \n",
    "                                   regexp_replace(regexp_replace((when (col(\"shipCountry\").rlike(\"[0-9]\"),col(\"shipCountry\"))\n",
    "                                   .otherwise(col(\"shipPostalCode\"))),r\"\\-\",\"\"),\" \",\"\").alias(\"shipPostalCode_t\"), \n",
    "                                   when (col(\"shipCountry\").rlike(\"[0-9]\"),\"Brazil\")\n",
    "                                   .otherwise(col(\"shipCountry\")).alias(\"shipCountry_t\")\n",
    "                                   )\n",
    "display(df_order_transform)\n",
    "\n",
    "#saving output to table\n",
    "\n",
    "#check for groups Aggregations by Country\n",
    "#df_grp=df_order_transform.groupBy(\"shipcountry_t\").agg(count(\"*\").alias(\"count\"),\n",
    "#                                 max(\"freight\").alias(\"max_freight\"),\n",
    "#                                 min(\"freight\").alias(\"min_freight\"),\n",
    "#                                 avg(\"freight\").alias(\"avg_freight\"),\n",
    "#                                 sum(\"freight\").alias(\"sum_freight\")\n",
    "#                                 ).orderBy(\"count\",ascending=False)\n",
    "#display(df_grp)\n",
    "                                   "
   ]
  },
  {
   "cell_type": "code",
   "execution_count": 0,
   "metadata": {
    "application/vnd.databricks.v1+cell": {
     "cellMetadata": {
      "byteLimit": 2048000,
      "rowLimit": 10000
     },
     "inputWidgets": {},
     "nuid": "4b881cd7-d08a-49d8-a610-83bfbce364c7",
     "showTitle": false,
     "tableResultSettingsMap": {},
     "title": ""
    }
   },
   "outputs": [],
   "source": [
    "#save the dataframe output to table\n",
    "df_order_transform.select(col(\"orderID\"), \n",
    "                                   col(\"customerID\"), \n",
    "                                   col(\"employeeID\"), \n",
    "                                   col(\"orderDate\"), \n",
    "                                   col(\"requiredDate\"), \n",
    "                                   col(\"shippedDate\"), \n",
    "                                   col(\"shipVia\"), \n",
    "                                   col(\"freight\"), \n",
    "                                   col(\"shipName\"),\n",
    "                                   col(\"shipAddress_T\").alias(\"shipAddress\"), \n",
    "                                   col(\"shipCity_t\").alias(\"shipCity\"), \n",
    "                                   col(\"shipRegion_t\").alias(\"shipRegion\"), \n",
    "                                   col(\"shipPostalCode_t\").alias(\"shipPostalCode\"), \n",
    "                                   col(\"shipCountry_t\").alias(\"shipCountry\")\n",
    "                                   )\\\n",
    "                .write.mode(\"overwrite\").saveAsTable(\"dbckwork.dwh_sql.orders\")"
   ]
  }
 ],
 "metadata": {
  "application/vnd.databricks.v1+notebook": {
   "computePreferences": null,
   "dashboards": [],
   "environmentMetadata": {
    "base_environment": "",
    "environment_version": "2"
   },
   "inputWidgetPreferences": null,
   "language": "python",
   "notebookMetadata": {
    "mostRecentlyExecutedCommandWithImplicitDF": {
     "commandId": -1,
     "dataframes": [
      "_sqldf"
     ]
    },
    "pythonIndentUnit": 4
   },
   "notebookName": "nb_load_orders_sqldb",
   "widgets": {}
  },
  "language_info": {
   "name": "python"
  }
 },
 "nbformat": 4,
 "nbformat_minor": 0
}
