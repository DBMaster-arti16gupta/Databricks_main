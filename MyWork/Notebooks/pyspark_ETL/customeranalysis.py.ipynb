{
 "cells": [
  {
   "cell_type": "code",
   "execution_count": 0,
   "metadata": {
    "application/vnd.databricks.v1+cell": {
     "cellMetadata": {
      "byteLimit": 2048000,
      "rowLimit": 10000
     },
     "inputWidgets": {},
     "nuid": "58709b23-8d81-4ae2-8809-39e3ad23418c",
     "showTitle": false,
     "tableResultSettingsMap": {},
     "title": ""
    }
   },
   "outputs": [],
   "source": [
    "from pyspark.sql.functions import *\n",
    "from pyspark.sql import SparkSession\n",
    "\n",
    "spark = SparkSession.builder.appName(\"CustomerAnalysis\").getOrCreate()\n",
    "df = spark.read.csv(\"/Volumes/dbckwork/aibiwork/datafiles/customers-10000.csv\", header=True, inferSchema=True)\n",
    "df.createOrReplaceTempView(\"customer\")\n",
    "\n",
    "# Max country have word 'us'\n",
    "df_select = df.select(\n",
    "    col(\"First Name\").alias(\"FirstName\"),\n",
    "    col(\"Last Name\").alias(\"LastName\"),\n",
    "    \"Country\",\n",
    "    \"Email\",\n",
    "    \"phone 1\",\n",
    "    \"phone 2\"\n",
    ")\n",
    "df_select = df_select.where(lower(df[\"Country\"]).like(\"%us%\")) \\\n",
    "            .groupBy(\"Country\").count()\n",
    "df_select = df_select.orderBy(desc(\"count\"))\n",
    "\n",
    "# Get all the list\n",
    "df_all_list = df.select(\n",
    "    col(\"First Name\").alias(\"FirstName\"),\n",
    "    col(\"Last Name\").alias(\"LastName\"),\n",
    "    \"Country\",\n",
    "    \"Email\",\n",
    "    \"phone 1\",\n",
    "    \"phone 2\"\n",
    ").where(df[\"Country\"] == df_select.limit(1).collect()[0][\"Country\"])\n",
    "\n",
    "# Check for is null email\n",
    "df_null_contact = df.select(\n",
    "    col(\"First Name\").alias(\"FirstName\"),\n",
    "    col(\"Last Name\").alias(\"LastName\"),\n",
    "    \"Country\",\n",
    "    \"Email\",\n",
    "    regexp_replace(col(\"Phone 1\"), \"x\", \"0\").alias(\"Phone1\"),\n",
    "    \"Phone 2\"\n",
    ").where(df[\"Phone 1\"].like (\"%x%\"))\n",
    "display(df_null_contact)"
   ]
  },
  {
   "cell_type": "code",
   "execution_count": 0,
   "metadata": {
    "application/vnd.databricks.v1+cell": {
     "cellMetadata": {},
     "inputWidgets": {},
     "nuid": "c848d2e3-d8cb-4074-b83a-e3c16d4428d5",
     "showTitle": false,
     "tableResultSettingsMap": {},
     "title": ""
    }
   },
   "outputs": [],
   "source": []
  }
 ],
 "metadata": {
  "application/vnd.databricks.v1+notebook": {
   "computePreferences": null,
   "dashboards": [],
   "environmentMetadata": {
    "base_environment": "",
    "environment_version": "2"
   },
   "inputWidgetPreferences": null,
   "language": "python",
   "notebookMetadata": {
    "pythonIndentUnit": 4
   },
   "notebookName": "customeranalysis.py",
   "widgets": {}
  },
  "language_info": {
   "name": "python"
  }
 },
 "nbformat": 4,
 "nbformat_minor": 0
}
