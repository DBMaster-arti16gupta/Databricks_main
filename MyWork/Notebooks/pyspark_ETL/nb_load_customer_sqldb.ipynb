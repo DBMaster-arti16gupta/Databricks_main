{
 "cells": [
  {
   "cell_type": "markdown",
   "metadata": {
    "application/vnd.databricks.v1+cell": {
     "cellMetadata": {},
     "inputWidgets": {},
     "nuid": "ccc8d96a-e8d3-4430-8fb3-e2f21fe33221",
     "showTitle": false,
     "tableResultSettingsMap": {},
     "title": ""
    }
   },
   "source": [
    "### Load the Customer CSV data into sql catalog"
   ]
  },
  {
   "cell_type": "code",
   "execution_count": 0,
   "metadata": {
    "application/vnd.databricks.v1+cell": {
     "cellMetadata": {
      "byteLimit": 2048000,
      "rowLimit": 10000
     },
     "inputWidgets": {},
     "nuid": "eb6b9390-e680-4ba8-9aba-68bcc7ebf681",
     "showTitle": true,
     "tableResultSettingsMap": {},
     "title": "load the same csv file using the schema defined"
    }
   },
   "outputs": [],
   "source": [
    "\n",
    "from pyspark.sql.functions import *\n",
    "from pyspark.sql.types import *\n",
    "from pyspark.sql import SparkSession\n",
    "\n",
    "#Explicit Schema definition\n",
    "schema_customer_csv=StructType([StructField(\"customerID\",StringType(),False),\n",
    "                                StructField(\"companyName\",StringType(),True),\n",
    "                                StructField(\"contactName\",StringType(),True),\n",
    "                                StructField(\"contactTitle\",StringType(),True),\n",
    "                                StructField(\"address\",StringType(),True),\n",
    "                                StructField(\"city\",StringType(),True),\n",
    "                                StructField(\"region\",StringType(),True),\n",
    "                                StructField(\"postalCode\",StringType(),True),\n",
    "                                StructField(\"country\",StringType(),True),\n",
    "                                StructField(\"phone\",StringType(),True),\n",
    "                                StructField(\"fax\",StringType(),True)\n",
    "                                ])\n",
    "\n",
    "spark=SparkSession.builder.appName(\"Spark DataFrames for Customer Segmentation\").getOrCreate()\n",
    "\n",
    "df_cust=spark.read.csv(\"/Volumes/dbckwork/aibiwork/datafiles/csv/customers.csv\",header=True,schema=schema_customer_csv)\n",
    "#display(df_cust)\n",
    "\n",
    "#apply data tarnsformations and data cleaning\n",
    "df_cust_valid=df_cust.select(col(\"customerID\"),\n",
    "                             col(\"companyName\"),\n",
    "                             col(\"contactName\"),\n",
    "                             col(\"contactTitle\"),\n",
    "                             when ((length(df_cust.address) <= 5) | (col(\"country\").rlike(\"[0-9]\")), concat(col(\"address\") , col(\"city\")))\n",
    "                             .otherwise(col(\"address\")).alias(\"address_T\") ,\n",
    "                             when ((length(df_cust.address) <= 5) | (col(\"country\").rlike(\"[0-9]\")), col(\"region\"))\n",
    "                             .otherwise(col(\"city\")).alias(\"city_t\"),\n",
    "                             regexp_replace(regexp_replace(when ((length(df_cust.address) <= 5) | (col(\"country\").rlike(\"[0-9]\")), col(\"postalCode\"))\n",
    "                             .otherwise(col(\"region\")),\"-\",\"\"),\" \",\"\").alias(\"region_t\"),\n",
    "                             regexp_replace(regexp_replace(when ((length(df_cust.address) <= 5) | (col(\"country\").rlike(\"[0-9]\")), col(\"country\"))\n",
    "                             .otherwise(col(\"postalCode\")),\"-\",\"\"),\" \",\"\").alias(\"postalCode_t\"),\n",
    "                            when ((length(df_cust.address) <= 5) | (col(\"country\").rlike(\"[0-9]\")), col(\"phone\"))\n",
    "                             .otherwise(col(\"country\")).alias(\"country_t\"),\n",
    "                             regexp_replace(regexp_replace(regexp_replace(regexp_replace(regexp_replace(when ((length(df_cust.address) <= 5) | (col(\"country\").rlike(\"[0-9]\")), col(\"fax\"))\n",
    "                             .otherwise(col(\"phone\")),r\"\\(\",\"\"),r\"\\)\",\"\"),\"-\",\"\"),r\"\\.\",\"\"),\" \",\"\").alias(\"phone_t\"),\n",
    "                             regexp_replace(regexp_replace(regexp_replace(regexp_replace(regexp_replace(when ((length(df_cust.address) <= 5) | (col(\"country\").rlike(\"[0-9]\")), lit(None))\n",
    "                             .otherwise(col(\"fax\")),r\"\\(\",\"\"),r\"\\)\",\"\"),\"-\",\"\"),r\"\\.\",\"\"),\" \",\"\").alias(\"fax_t\")) \\\n",
    "                             .drop_duplicates()    \n",
    "\n",
    "#display(df_cust_valid.count())\n"
   ]
  },
  {
   "cell_type": "code",
   "execution_count": 0,
   "metadata": {
    "application/vnd.databricks.v1+cell": {
     "cellMetadata": {
      "byteLimit": 2048000,
      "rowLimit": 10000
     },
     "inputWidgets": {},
     "nuid": "d0f6bd2b-d6e4-46a3-bbae-553237c1e4e3",
     "showTitle": true,
     "tableResultSettingsMap": {},
     "title": "Save the dataframe into sql"
    }
   },
   "outputs": [],
   "source": [
    "df_save_to_sql=df_cust_valid.select(col(\"customerID\"),\n",
    "                             col(\"companyName\"),\n",
    "                             col(\"contactName\"),\n",
    "                             col(\"contactTitle\"),\n",
    "                             col(\"address_T\").alias(\"address\"),\n",
    "                             col(\"city_t\").alias(\"city\"),\n",
    "                             col(\"region_t\").alias(\"region\"),\n",
    "                             col(\"postalCode_t\").alias(\"postalCode\"),\n",
    "                             col(\"country_t\").alias(\"country\"),\n",
    "                             col(\"phone_t\").alias(\"phone\"),\n",
    "                             col(\"fax_t\").alias(\"fax\"))\n",
    "df_save_to_sql.write.mode(\"overwrite\").saveAsTable(\"dbckwork.dwh_sql.customer\")"
   ]
  }
 ],
 "metadata": {
  "application/vnd.databricks.v1+notebook": {
   "computePreferences": null,
   "dashboards": [],
   "environmentMetadata": {
    "base_environment": "",
    "environment_version": "2"
   },
   "inputWidgetPreferences": null,
   "language": "python",
   "notebookMetadata": {
    "pythonIndentUnit": 4
   },
   "notebookName": "nb_load_customer_sqldb",
   "widgets": {}
  },
  "language_info": {
   "name": "python"
  }
 },
 "nbformat": 4,
 "nbformat_minor": 0
}
