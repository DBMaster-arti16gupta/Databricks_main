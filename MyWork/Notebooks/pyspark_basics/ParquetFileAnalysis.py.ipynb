{
 "cells": [
  {
   "cell_type": "code",
   "execution_count": 0,
   "metadata": {
    "application/vnd.databricks.v1+cell": {
     "cellMetadata": {
      "byteLimit": 2048000,
      "rowLimit": 10000
     },
     "inputWidgets": {},
     "nuid": "368591aa-15b6-4eb1-a6d5-d2baf4d28669",
     "showTitle": false,
     "tableResultSettingsMap": {},
     "title": ""
    }
   },
   "outputs": [],
   "source": [
    "from pyspark.sql import SparkSession\n",
    "from pyspark.sql.functions import *\n",
    "spark = SparkSession.builder.appName(\"pqa\").getOrCreate()\n",
    "df=spark.read.format(\"parquet\").load(\"/Volumes/dbckwork/aibiwork/datafiles/customers.parquet/\")\n",
    "df.createOrReplaceTempView(\"customers\")\n",
    "#display(df.limit(10))\n",
    "df_group=df.select(col(\"Country\")).groupBy(\"Country\").count()\\\n",
    ".orderBy(desc(\"count\")).limit(5)\n",
    "\n",
    "# build the country list\n",
    "country_list=[row[\"Country\"] for row in df_group.collect()]\n",
    "display(country_list)\n",
    "df_select=df.select(col(\"First Name\").alias(\"FirstName\"),col(\"Last Name\").alias(\"LastName\"),col(\"City\"),col(\"Country\"),col(\"Email\"))\\\n",
    "    .where(col(\"Country\").isin(country_list))\n",
    "display(df_select)\n"
   ]
  },
  {
   "cell_type": "code",
   "execution_count": 0,
   "metadata": {
    "application/vnd.databricks.v1+cell": {
     "cellMetadata": {},
     "inputWidgets": {},
     "nuid": "b39863b4-db2c-4b3f-b4a9-8f8f73138c43",
     "showTitle": false,
     "tableResultSettingsMap": {},
     "title": ""
    }
   },
   "outputs": [],
   "source": []
  }
 ],
 "metadata": {
  "application/vnd.databricks.v1+notebook": {
   "computePreferences": null,
   "dashboards": [],
   "environmentMetadata": {
    "base_environment": "",
    "environment_version": "2"
   },
   "inputWidgetPreferences": null,
   "language": "python",
   "notebookMetadata": {
    "pythonIndentUnit": 4
   },
   "notebookName": "ParquetFileAnalysis.py",
   "widgets": {}
  },
  "language_info": {
   "name": "python"
  }
 },
 "nbformat": 4,
 "nbformat_minor": 0
}
